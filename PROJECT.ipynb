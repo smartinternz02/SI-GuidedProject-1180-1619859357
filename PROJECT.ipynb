{
 "cells": [
  {
   "cell_type": "markdown",
   "metadata": {},
   "source": [
    "# INTELLIGENT ALERT SYSTEM FOR FOREST TRIBAL PEOPLE USING IBM WATSON STUDIO"
   ]
  },
  {
   "cell_type": "markdown",
   "metadata": {},
   "source": [
    "# MODEL BUILDING"
   ]
  },
  {
   "cell_type": "code",
   "execution_count": 1,
   "metadata": {},
   "outputs": [],
   "source": [
    "from tensorflow.keras.models import Sequential\n",
    "from tensorflow.keras.layers import Dense\n",
    "from tensorflow.keras.layers import Convolution2D\n",
    "from tensorflow.keras.layers import MaxPooling2D\n",
    "from tensorflow.keras.layers import Flatten"
   ]
  },
  {
   "cell_type": "code",
   "execution_count": 2,
   "metadata": {},
   "outputs": [
    {
     "name": "stderr",
     "output_type": "stream",
     "text": [
      "Using TensorFlow backend.\n"
     ]
    }
   ],
   "source": [
    "from keras.preprocessing.image import ImageDataGenerator\n",
    "train_datagen =  ImageDataGenerator(rescale = 1./255,shear_range = 0.2,zoom_range = 0.2,horizontal_flip = True)\n",
    "test_datagen =  ImageDataGenerator(rescale = 1./255)"
   ]
  },
  {
   "cell_type": "code",
   "execution_count": 3,
   "metadata": {},
   "outputs": [
    {
     "name": "stdout",
     "output_type": "stream",
     "text": [
      "Found 993 images belonging to 3 classes.\n",
      "Found 353 images belonging to 3 classes.\n"
     ]
    }
   ],
   "source": [
    "x_train = train_datagen.flow_from_directory(r\"C:\\Users\\sai jyothi\\OneDrive\\Documents\\dataset\\dataset\\train_set\",target_size = (64,64),batch_size = 32, class_mode =\"categorical\")\n",
    "x_test = test_datagen.flow_from_directory(r\"C:\\Users\\sai jyothi\\OneDrive\\Documents\\dataset\\dataset\\test_set\",target_size = (64,64),batch_size = 32, class_mode =\"categorical\")"
   ]
  },
  {
   "cell_type": "code",
   "execution_count": 4,
   "metadata": {},
   "outputs": [],
   "source": [
    "model = Sequential()"
   ]
  },
  {
   "cell_type": "code",
   "execution_count": 5,
   "metadata": {},
   "outputs": [
    {
     "name": "stdout",
     "output_type": "stream",
     "text": [
      "WARNING:tensorflow:From C:\\Users\\sai jyothi\\Anaconda3\\lib\\site-packages\\tensorflow\\python\\ops\\init_ops.py:1251: calling VarianceScaling.__init__ (from tensorflow.python.ops.init_ops) with dtype is deprecated and will be removed in a future version.\n",
      "Instructions for updating:\n",
      "Call initializer instance with the dtype argument instead of passing it to the constructor\n"
     ]
    }
   ],
   "source": [
    "model.add(Convolution2D(32,(3,3) ,input_shape = (64,64,3),activation = \"relu\"))"
   ]
  },
  {
   "cell_type": "code",
   "execution_count": 6,
   "metadata": {},
   "outputs": [],
   "source": [
    "model.add(MaxPooling2D((2,2)))"
   ]
  },
  {
   "cell_type": "code",
   "execution_count": 7,
   "metadata": {},
   "outputs": [],
   "source": [
    "model.add(Flatten())"
   ]
  },
  {
   "cell_type": "code",
   "execution_count": 8,
   "metadata": {},
   "outputs": [
    {
     "name": "stdout",
     "output_type": "stream",
     "text": [
      "WARNING:tensorflow:From C:\\Users\\sai jyothi\\Anaconda3\\lib\\site-packages\\tensorflow\\python\\keras\\initializers.py:119: calling RandomUniform.__init__ (from tensorflow.python.ops.init_ops) with dtype is deprecated and will be removed in a future version.\n",
      "Instructions for updating:\n",
      "Call initializer instance with the dtype argument instead of passing it to the constructor\n"
     ]
    }
   ],
   "source": [
    "model.add(Dense(kernel_initializer = \"random_uniform\",activation = \"relu\",units=512))"
   ]
  },
  {
   "cell_type": "code",
   "execution_count": 9,
   "metadata": {},
   "outputs": [],
   "source": [
    "model.add(Dense(kernel_initializer = \"random_uniform\",activation = \"softmax\",units = 3))"
   ]
  },
  {
   "cell_type": "code",
   "execution_count": 10,
   "metadata": {},
   "outputs": [],
   "source": [
    "model.compile(loss = \"categorical_crossentropy\",optimizer='adam',metrics = [\"accuracy\"])"
   ]
  },
  {
   "cell_type": "code",
   "execution_count": 11,
   "metadata": {},
   "outputs": [
    {
     "name": "stdout",
     "output_type": "stream",
     "text": [
      "Epoch 1/50\n",
      "31/31 [==============================] - 6s 203ms/step - loss: 1.0193 - acc: 0.4433 - val_loss: 1.0755 - val_acc: 0.5028\n",
      "Epoch 2/50\n",
      "31/31 [==============================] - 5s 146ms/step - loss: 0.8653 - acc: 0.6098 - val_loss: 1.4385 - val_acc: 0.4261\n",
      "Epoch 3/50\n",
      "31/31 [==============================] - 4s 141ms/step - loss: 0.7998 - acc: 0.6649 - val_loss: 0.9192 - val_acc: 0.6023\n",
      "Epoch 4/50\n",
      "31/31 [==============================] - 4s 142ms/step - loss: 0.7189 - acc: 0.6899 - val_loss: 0.8515 - val_acc: 0.6193\n",
      "Epoch 5/50\n",
      "31/31 [==============================] - 4s 144ms/step - loss: 0.7550 - acc: 0.6795 - val_loss: 0.7753 - val_acc: 0.6619\n",
      "Epoch 6/50\n",
      "31/31 [==============================] - 5s 146ms/step - loss: 0.6250 - acc: 0.7288 - val_loss: 0.9437 - val_acc: 0.6449\n",
      "Epoch 7/50\n",
      "31/31 [==============================] - 4s 137ms/step - loss: 0.5384 - acc: 0.7634 - val_loss: 0.8832 - val_acc: 0.6733\n",
      "Epoch 8/50\n",
      "31/31 [==============================] - 4s 143ms/step - loss: 0.5557 - acc: 0.7732 - val_loss: 1.0993 - val_acc: 0.6136\n",
      "Epoch 9/50\n",
      "31/31 [==============================] - 5s 148ms/step - loss: 0.5272 - acc: 0.7763 - val_loss: 0.8409 - val_acc: 0.6847\n",
      "Epoch 10/50\n",
      "31/31 [==============================] - 4s 143ms/step - loss: 0.5474 - acc: 0.7846 - val_loss: 1.5883 - val_acc: 0.4375\n",
      "Epoch 11/50\n",
      "31/31 [==============================] - 5s 149ms/step - loss: 0.5657 - acc: 0.7651 - val_loss: 0.9357 - val_acc: 0.6591\n",
      "Epoch 12/50\n",
      "31/31 [==============================] - 5s 164ms/step - loss: 0.4580 - acc: 0.7946 - val_loss: 0.8617 - val_acc: 0.6960\n",
      "Epoch 13/50\n",
      "31/31 [==============================] - 5s 169ms/step - loss: 0.4339 - acc: 0.8145 - val_loss: 0.8198 - val_acc: 0.7159\n",
      "Epoch 14/50\n",
      "31/31 [==============================] - 5s 154ms/step - loss: 0.3372 - acc: 0.8564 - val_loss: 0.9093 - val_acc: 0.7102\n",
      "Epoch 15/50\n",
      "31/31 [==============================] - 5s 149ms/step - loss: 0.6868 - acc: 0.7570 - val_loss: 0.8123 - val_acc: 0.6534\n",
      "Epoch 16/50\n",
      "31/31 [==============================] - 4s 145ms/step - loss: 0.4186 - acc: 0.8273 - val_loss: 0.8910 - val_acc: 0.7074\n",
      "Epoch 17/50\n",
      "31/31 [==============================] - 5s 146ms/step - loss: 0.3486 - acc: 0.8599 - val_loss: 1.0563 - val_acc: 0.7074\n",
      "Epoch 18/50\n",
      "31/31 [==============================] - 5s 146ms/step - loss: 0.3275 - acc: 0.8656 - val_loss: 0.9190 - val_acc: 0.7159\n",
      "Epoch 19/50\n",
      "31/31 [==============================] - 4s 143ms/step - loss: 0.3700 - acc: 0.8512 - val_loss: 1.5275 - val_acc: 0.6420\n",
      "Epoch 20/50\n",
      "31/31 [==============================] - 5s 146ms/step - loss: 0.3822 - acc: 0.8538 - val_loss: 0.9898 - val_acc: 0.7074\n",
      "Epoch 21/50\n",
      "31/31 [==============================] - 4s 140ms/step - loss: 0.2864 - acc: 0.8866 - val_loss: 1.0268 - val_acc: 0.7159\n",
      "Epoch 22/50\n",
      "31/31 [==============================] - 4s 142ms/step - loss: 0.4346 - acc: 0.8527 - val_loss: 0.8612 - val_acc: 0.6847\n",
      "Epoch 23/50\n",
      "31/31 [==============================] - 4s 138ms/step - loss: 0.3334 - acc: 0.8700 - val_loss: 1.0286 - val_acc: 0.6960\n",
      "Epoch 24/50\n",
      "31/31 [==============================] - 4s 134ms/step - loss: 0.4748 - acc: 0.8325 - val_loss: 0.8605 - val_acc: 0.7017\n",
      "Epoch 25/50\n",
      "31/31 [==============================] - 4s 141ms/step - loss: 0.3138 - acc: 0.8845 - val_loss: 1.0831 - val_acc: 0.7017\n",
      "Epoch 26/50\n",
      "31/31 [==============================] - 4s 139ms/step - loss: 0.2316 - acc: 0.9105 - val_loss: 1.0509 - val_acc: 0.7273\n",
      "Epoch 27/50\n",
      "31/31 [==============================] - 4s 139ms/step - loss: 0.4486 - acc: 0.8314 - val_loss: 1.0610 - val_acc: 0.6875\n",
      "Epoch 28/50\n",
      "31/31 [==============================] - 4s 144ms/step - loss: 0.2631 - acc: 0.8978 - val_loss: 1.2017 - val_acc: 0.7045\n",
      "Epoch 29/50\n",
      "31/31 [==============================] - 4s 142ms/step - loss: 0.2271 - acc: 0.9183 - val_loss: 1.1517 - val_acc: 0.7159\n",
      "Epoch 30/50\n",
      "31/31 [==============================] - 4s 141ms/step - loss: 0.2365 - acc: 0.9043 - val_loss: 1.1151 - val_acc: 0.7102\n",
      "Epoch 31/50\n",
      "31/31 [==============================] - 4s 142ms/step - loss: 0.1843 - acc: 0.9282 - val_loss: 1.4145 - val_acc: 0.6989\n",
      "Epoch 32/50\n",
      "31/31 [==============================] - 4s 139ms/step - loss: 0.1784 - acc: 0.9272 - val_loss: 1.2216 - val_acc: 0.7301\n",
      "Epoch 33/50\n",
      "31/31 [==============================] - 4s 139ms/step - loss: 0.1821 - acc: 0.9344 - val_loss: 1.1890 - val_acc: 0.7216\n",
      "Epoch 34/50\n",
      "31/31 [==============================] - 5s 157ms/step - loss: 0.1780 - acc: 0.9334 - val_loss: 1.2454 - val_acc: 0.7216\n",
      "Epoch 35/50\n",
      "31/31 [==============================] - 5s 158ms/step - loss: 0.1559 - acc: 0.9396 - val_loss: 1.3070 - val_acc: 0.7131\n",
      "Epoch 36/50\n",
      "31/31 [==============================] - 5s 146ms/step - loss: 0.1357 - acc: 0.9542 - val_loss: 1.4771 - val_acc: 0.7159\n",
      "Epoch 37/50\n",
      "31/31 [==============================] - 5s 150ms/step - loss: 0.1232 - acc: 0.9594 - val_loss: 1.2830 - val_acc: 0.7273\n",
      "Epoch 38/50\n",
      "31/31 [==============================] - 5s 148ms/step - loss: 0.1123 - acc: 0.9667 - val_loss: 1.3214 - val_acc: 0.7159\n",
      "Epoch 39/50\n",
      "31/31 [==============================] - 5s 153ms/step - loss: 0.1033 - acc: 0.9677 - val_loss: 1.3798 - val_acc: 0.7273\n",
      "Epoch 40/50\n",
      "31/31 [==============================] - 5s 147ms/step - loss: 0.1228 - acc: 0.9584 - val_loss: 1.3793 - val_acc: 0.7358\n",
      "Epoch 41/50\n",
      "31/31 [==============================] - 5s 146ms/step - loss: 0.1195 - acc: 0.9563 - val_loss: 1.3990 - val_acc: 0.7216\n",
      "Epoch 42/50\n",
      "31/31 [==============================] - 4s 143ms/step - loss: 0.1170 - acc: 0.9627 - val_loss: 1.4219 - val_acc: 0.7273\n",
      "Epoch 43/50\n",
      "31/31 [==============================] - 5s 150ms/step - loss: 0.0797 - acc: 0.9781 - val_loss: 1.5579 - val_acc: 0.7045\n",
      "Epoch 44/50\n",
      "31/31 [==============================] - 4s 137ms/step - loss: 0.2557 - acc: 0.9183 - val_loss: 1.2946 - val_acc: 0.7159\n",
      "Epoch 45/50\n",
      "31/31 [==============================] - 4s 144ms/step - loss: 0.0981 - acc: 0.9719 - val_loss: 1.5721 - val_acc: 0.7159\n",
      "Epoch 46/50\n",
      "31/31 [==============================] - 5s 148ms/step - loss: 0.1049 - acc: 0.9597 - val_loss: 1.6271 - val_acc: 0.7074\n",
      "Epoch 47/50\n",
      "31/31 [==============================] - 4s 143ms/step - loss: 0.0855 - acc: 0.9720 - val_loss: 1.4985 - val_acc: 0.7301\n",
      "Epoch 48/50\n",
      "31/31 [==============================] - 5s 159ms/step - loss: 0.0936 - acc: 0.9647 - val_loss: 1.5326 - val_acc: 0.7244\n",
      "Epoch 49/50\n",
      "31/31 [==============================] - 4s 145ms/step - loss: 0.0877 - acc: 0.9719 - val_loss: 1.7085 - val_acc: 0.7273\n",
      "Epoch 50/50\n",
      "31/31 [==============================] - 4s 140ms/step - loss: 0.0907 - acc: 0.9710 - val_loss: 1.6577 - val_acc: 0.7131\n"
     ]
    },
    {
     "data": {
      "text/plain": [
       "<tensorflow.python.keras.callbacks.History at 0x1f83061b2e8>"
      ]
     },
     "execution_count": 11,
     "metadata": {},
     "output_type": "execute_result"
    }
   ],
   "source": [
    "model.fit_generator(x_train ,steps_per_epoch = 31 ,epochs =50 ,validation_data= x_test , validation_steps = 11)"
   ]
  },
  {
   "cell_type": "code",
   "execution_count": 14,
   "metadata": {},
   "outputs": [],
   "source": [
    "model.save('animal.h5')"
   ]
  },
  {
   "cell_type": "code",
   "execution_count": 15,
   "metadata": {},
   "outputs": [],
   "source": [
    "from tensorflow.keras.models import load_model\n",
    "from tensorflow.keras.preprocessing import image\n",
    "import numpy as np"
   ]
  },
  {
   "cell_type": "code",
   "execution_count": 16,
   "metadata": {},
   "outputs": [],
   "source": [
    "index =['domestic','Human','wild']"
   ]
  },
  {
   "cell_type": "code",
   "execution_count": 17,
   "metadata": {},
   "outputs": [
    {
     "name": "stdout",
     "output_type": "stream",
     "text": [
      "WARNING:tensorflow:From C:\\Users\\sai jyothi\\Anaconda3\\lib\\site-packages\\tensorflow\\python\\ops\\init_ops.py:97: calling GlorotUniform.__init__ (from tensorflow.python.ops.init_ops) with dtype is deprecated and will be removed in a future version.\n",
      "Instructions for updating:\n",
      "Call initializer instance with the dtype argument instead of passing it to the constructor\n",
      "WARNING:tensorflow:From C:\\Users\\sai jyothi\\Anaconda3\\lib\\site-packages\\tensorflow\\python\\ops\\init_ops.py:97: calling Zeros.__init__ (from tensorflow.python.ops.init_ops) with dtype is deprecated and will be removed in a future version.\n",
      "Instructions for updating:\n",
      "Call initializer instance with the dtype argument instead of passing it to the constructor\n"
     ]
    }
   ],
   "source": [
    "model = load_model(\"animal.h5\")"
   ]
  },
  {
   "cell_type": "code",
   "execution_count": 18,
   "metadata": {},
   "outputs": [],
   "source": [
    "img = image.load_img(r\"D:\\gcet externship\\tiger1.jpg\",target_size = (64,64))"
   ]
  },
  {
   "cell_type": "code",
   "execution_count": 19,
   "metadata": {},
   "outputs": [
    {
     "data": {
      "text/plain": [
       "PIL.Image.Image"
      ]
     },
     "execution_count": 19,
     "metadata": {},
     "output_type": "execute_result"
    }
   ],
   "source": [
    "type(img)"
   ]
  },
  {
   "cell_type": "code",
   "execution_count": 20,
   "metadata": {},
   "outputs": [],
   "source": [
    "x = image.img_to_array(img)"
   ]
  },
  {
   "cell_type": "code",
   "execution_count": 21,
   "metadata": {},
   "outputs": [
    {
     "data": {
      "text/plain": [
       "numpy.ndarray"
      ]
     },
     "execution_count": 21,
     "metadata": {},
     "output_type": "execute_result"
    }
   ],
   "source": [
    "type(x)"
   ]
  },
  {
   "cell_type": "code",
   "execution_count": 22,
   "metadata": {},
   "outputs": [
    {
     "data": {
      "text/plain": [
       "(64, 64, 3)"
      ]
     },
     "execution_count": 22,
     "metadata": {},
     "output_type": "execute_result"
    }
   ],
   "source": [
    "x.shape"
   ]
  },
  {
   "cell_type": "code",
   "execution_count": 23,
   "metadata": {},
   "outputs": [
    {
     "data": {
      "text/plain": [
       "(1, 64, 64, 3)"
      ]
     },
     "execution_count": 23,
     "metadata": {},
     "output_type": "execute_result"
    }
   ],
   "source": [
    "x = np.expand_dims(x,axis=0)\n",
    "x.shape"
   ]
  },
  {
   "cell_type": "code",
   "execution_count": 24,
   "metadata": {},
   "outputs": [],
   "source": [
    "pred = model.predict_classes(x) "
   ]
  },
  {
   "cell_type": "code",
   "execution_count": 25,
   "metadata": {},
   "outputs": [
    {
     "data": {
      "text/plain": [
       "array([0], dtype=int64)"
      ]
     },
     "execution_count": 25,
     "metadata": {},
     "output_type": "execute_result"
    }
   ],
   "source": [
    "pred"
   ]
  },
  {
   "cell_type": "code",
   "execution_count": 26,
   "metadata": {},
   "outputs": [
    {
     "name": "stdout",
     "output_type": "stream",
     "text": [
      "domestic\n"
     ]
    }
   ],
   "source": [
    "print(index[pred[0]])"
   ]
  },
  {
   "cell_type": "code",
   "execution_count": 1,
   "metadata": {},
   "outputs": [
    {
     "name": "stdout",
     "output_type": "stream",
     "text": [
      "WARNING:tensorflow:From C:\\Users\\sai jyothi\\Anaconda3\\lib\\site-packages\\tensorflow\\python\\ops\\init_ops.py:97: calling GlorotUniform.__init__ (from tensorflow.python.ops.init_ops) with dtype is deprecated and will be removed in a future version.\n",
      "Instructions for updating:\n",
      "Call initializer instance with the dtype argument instead of passing it to the constructor\n",
      "WARNING:tensorflow:From C:\\Users\\sai jyothi\\Anaconda3\\lib\\site-packages\\tensorflow\\python\\ops\\init_ops.py:1251: calling VarianceScaling.__init__ (from tensorflow.python.ops.init_ops) with dtype is deprecated and will be removed in a future version.\n",
      "Instructions for updating:\n",
      "Call initializer instance with the dtype argument instead of passing it to the constructor\n",
      "WARNING:tensorflow:From C:\\Users\\sai jyothi\\Anaconda3\\lib\\site-packages\\tensorflow\\python\\ops\\init_ops.py:97: calling Zeros.__init__ (from tensorflow.python.ops.init_ops) with dtype is deprecated and will be removed in a future version.\n",
      "Instructions for updating:\n",
      "Call initializer instance with the dtype argument instead of passing it to the constructor\n",
      "WARNING:tensorflow:From C:\\Users\\sai jyothi\\Anaconda3\\lib\\site-packages\\tensorflow\\python\\keras\\initializers.py:119: calling RandomUniform.__init__ (from tensorflow.python.ops.init_ops) with dtype is deprecated and will be removed in a future version.\n",
      "Instructions for updating:\n",
      "Call initializer instance with the dtype argument instead of passing it to the constructor\n"
     ]
    }
   ],
   "source": [
    "import cv2   \n",
    "import numpy as np\n",
    "from tensorflow.keras.models import load_model\n",
    "from tensorflow.keras.preprocessing import image\n",
    "from twilio.rest import Client\n",
    "model=load_model(\"animal.h5\")\n",
    "video=cv2.VideoCapture(0)\n",
    "index=['domestic','Human','wild']\n",
    "while(1):\n",
    "  success,frame=video.read()\n",
    "  cv2.imwrite(\"image.jpg\",frame)\n",
    "  img=image.load_img(\"image.jpg\",target_size=(64,64))\n",
    "  x=image.img_to_array(img)\n",
    "  x=np.expand_dims(x,axis=0)\n",
    "  pred=model.predict_classes(x)\n",
    "  p=pred[0]\n",
    "  cv2.putText(frame,\"predicted class is \"+str(index[p]),(100,100),cv2.FONT_HERSHEY_SIMPLEX,1,(0,0,0),4)\n",
    "  cv2.imshow(\"showcasewindow\",frame)\n",
    "  account_sid='ACcba48778e7548916f4c2d6c9d6714144'\n",
    "  auth_token='7db3251ce54a12c4cd2fca7ae0835bf0'\n",
    "  client=Client(account_sid,auth_token) \n",
    "  if p>=1:\n",
    "    message = client.messages.create(\n",
    "        to=\"+918688644730\",\n",
    "        from_=\"+12673564049\",\n",
    "        body=\"safe\"\n",
    "        )\n",
    "  if p==2:\n",
    "    message = client.messages.create(\n",
    "        to=\"+918688644730\",\n",
    "        from_=\"+12673564049\",\n",
    "        body=\"Danger!! wild animal is detected, stay alert\"   \n",
    "        )\n",
    "  if cv2.waitKey(1) & 0xFF == ord('s'):\n",
    "    break\n",
    "video.release()\n",
    "cv2.destroyAllWindows()"
   ]
  },
  {
   "cell_type": "code",
   "execution_count": null,
   "metadata": {},
   "outputs": [],
   "source": []
  }
 ],
 "metadata": {
  "kernelspec": {
   "display_name": "Python 3",
   "language": "python",
   "name": "python3"
  },
  "language_info": {
   "codemirror_mode": {
    "name": "ipython",
    "version": 3
   },
   "file_extension": ".py",
   "mimetype": "text/x-python",
   "name": "python",
   "nbconvert_exporter": "python",
   "pygments_lexer": "ipython3",
   "version": "3.7.3"
  }
 },
 "nbformat": 4,
 "nbformat_minor": 2
}
